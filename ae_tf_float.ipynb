{
 "cells": [
  {
   "cell_type": "code",
   "execution_count": 1,
   "metadata": {},
   "outputs": [],
   "source": [
    "from keras.layers import Input, Dense, Conv2D, MaxPooling2D, UpSampling2D\n",
    "from keras.models import Model\n",
    "from keras import backend as K\n",
    "import matplotlib.pyplot as plt\n",
    "from keras.utils.data_utils import get_file\n",
    "#from keras.utils import print_summary\n",
    "import numpy as np\n",
    "import random\n",
    "import sys\n",
    "import io"
   ]
  },
  {
   "cell_type": "code",
   "execution_count": 2,
   "metadata": {},
   "outputs": [
    {
     "name": "stdout",
     "output_type": "stream",
     "text": [
      "(None, 256, 1, 1)\n",
      "(None, 256, 1, 1)\n",
      "(None, 256, 2, 2)\n",
      "(None, 128, 2, 2)\n",
      "(None, 128, 4, 4)\n",
      "(None, 64, 4, 4)\n",
      "(None, 64, 8, 8)\n",
      "(None, 32, 8, 8)\n",
      "(None, 32, 16, 16)\n",
      "(None, 16, 14, 14)\n",
      "(None, 16, 28, 28)\n",
      "(None, 8, 26, 26)\n",
      "(None, 8, 52, 52)\n",
      "(None, 3, 52, 52)\n",
      "--------------\n",
      "(None, 8, 52, 52)\n",
      "(None, 8, 26, 26)\n",
      "(None, 16, 26, 26)\n",
      "(None, 16, 13, 13)\n",
      "(None, 32, 13, 13)\n",
      "(None, 32, 7, 7)\n",
      "(None, 64, 7, 7)\n",
      "(None, 64, 4, 4)\n",
      "(None, 128, 4, 4)\n",
      "(None, 128, 2, 2)\n",
      "(None, 256, 2, 2)\n",
      "(None, 256, 1, 1)\n",
      "corpus length: 384\n",
      "nb sequences: 128\n"
     ]
    }
   ],
   "source": [
    "# at this point the representation is (4, 4, 8) i.e. 128-dimensional\n",
    "input_txt = Input(shape=(256, 1, 1))\n",
    "print(np.shape(input_txt))\n",
    "\n",
    "x = Conv2D(256, (3, 3), data_format='channels_first', activation='relu', padding='same')(input_txt)\n",
    "print(np.shape(x))#(?, 128, 1, 1)\n",
    "x = UpSampling2D((2, 2), data_format='channels_first')(x)\n",
    "print(np.shape(x))#(?, 64, 4, 4)\n",
    "x = Conv2D(128, (3, 3), data_format='channels_first', activation='relu', padding='same')(x)\n",
    "print(np.shape(x))#(?, 64, 4, 4)\n",
    "x = UpSampling2D((2, 2), data_format='channels_first')(x)\n",
    "print(np.shape(x))#(?, 64, 8, 8)\n",
    "x = Conv2D(64, (3, 3), data_format='channels_first', activation='relu', padding='same')(x)\n",
    "print(np.shape(x))#(?, 64, 4, 4)\n",
    "x = UpSampling2D((2, 2), data_format='channels_first')(x)\n",
    "print(np.shape(x))#(?, 64, 8, 8)\n",
    "\n",
    "x = Conv2D(32, (3, 3), data_format='channels_first', activation='relu', padding='same')(x)\n",
    "print(np.shape(x))#(?, 32, 8, 8)\n",
    "x = UpSampling2D((2, 2), data_format='channels_first')(x)\n",
    "print(np.shape(x))#(?, 32, 16, 16)\n",
    "x = Conv2D(16, (3, 3), data_format='channels_first', activation='relu')(x)\n",
    "print(np.shape(x))#(?, 16, 14, 14)\n",
    "x = UpSampling2D((2, 2), data_format='channels_first')(x)\n",
    "print(np.shape(x))#(?, 16, 28, 28)\n",
    "x = Conv2D(8, (3, 3), data_format='channels_first', activation='relu')(x)\n",
    "print(np.shape(x))#(?, 16, 14, 14)\n",
    "x = UpSampling2D((2, 2), data_format='channels_first')(x)\n",
    "print(np.shape(x))#(?, 16, 28, 28)\n",
    "\n",
    "decoded = Conv2D(3, (3, 3), data_format='channels_first', activation='sigmoid', padding='same')(x)\n",
    "print(np.shape(decoded))#(?, 1, 28, 28)\n",
    "\n",
    "print('--------------')\n",
    "\n",
    "x = Conv2D(8, (3, 3), data_format='channels_first', activation='relu', padding='same')(decoded)\n",
    "print(np.shape(x))  # (?, 16, 28, 28)\n",
    "x = MaxPooling2D((2, 2), data_format='channels_first', padding='same')(x)\n",
    "print(np.shape(x))  # (?, 16, 14, 14)\n",
    "x = Conv2D(16, (3, 3), data_format='channels_first', activation='relu', padding='same')(x)\n",
    "print(np.shape(x))#(?, 16, 28, 28)\n",
    "x = MaxPooling2D((2, 2), data_format='channels_first', padding='same')(x)\n",
    "print(np.shape(x))#(?, 16, 14, 14)\n",
    "\n",
    "x = Conv2D(32, (3, 3), data_format='channels_first', activation='relu', padding='same')(x)\n",
    "print(np.shape(x))  # (?, 32, 14, 14)\n",
    "x = MaxPooling2D((2, 2), data_format='channels_first', padding='same')(x)\n",
    "print(np.shape(x))  # (?, 32, 7, 7)\n",
    "x = Conv2D(64, (3, 3), data_format='channels_first', activation='relu', padding='same')(x)\n",
    "print(np.shape(x))#(?, 32, 14, 14)\n",
    "x = MaxPooling2D((2, 2), data_format='channels_first', padding='same')(x)\n",
    "print(np.shape(x))#(?, 32, 7, 7)\n",
    "x = Conv2D(128, (3, 3), data_format='channels_first', activation='relu', padding='same')(x)\n",
    "print(np.shape(x))#(?, 64, 7, 7)\n",
    "x = MaxPooling2D((2, 2), data_format='channels_first', padding='same')(x)\n",
    "print(np.shape(x))#(?, 32, 7, 7)\n",
    "\n",
    "x = Conv2D(256, (3, 3), data_format='channels_first', activation='relu', padding='same')(x)\n",
    "print(np.shape(x))\n",
    "encoded = MaxPooling2D((2, 2), data_format='channels_first', padding='same')(x)\n",
    "print(np.shape(encoded))#(?, 128, 1, 1)\n",
    "\n",
    "autoencoder_txt = Model(input_txt, encoded)\n",
    "autoencoder_txt2 = Model(input_txt, decoded)\n",
    "autoencoder_txt_input = Model(input_txt, input_txt)\n",
    "autoencoder_txt.compile(optimizer='adadelta', loss='binary_crossentropy')\n",
    "\n",
    "with io.open('./000111.txt', 'r') as f:\n",
    "    text = f.read().split('\\n')\n",
    "print('corpus length:', len(text))\n",
    "text = [float(i) for i in text]\n",
    "#print(text)\n",
    "maxlen = 256\n",
    "sentences = []\n",
    "for i in range(0, len(text) - maxlen):\n",
    "    sentences.append(text[i: i + maxlen])\n",
    "print('nb sequences:', len(sentences))\n",
    "#print(sentences)\n",
    "\n",
    "x = np.zeros((len(sentences), maxlen, 1), float)\n",
    "for i, sentence in enumerate(sentences):\n",
    "    for j, char in enumerate(sentence):\n",
    "        x[i, j, 0] = char\n",
    "        x_train = np.reshape(x, (len(sentences), maxlen, 1, 1))\n",
    "\n",
    "from keras.callbacks import CSVLogger, LambdaCallback\n",
    "\n",
    "\n",
    "decoded_imgs = autoencoder_txt2.predict(x_train)\n",
    "\n",
    "#n = 1\n",
    "#plt.figure(figsize=(1, 1))\n",
    "#for i in range(n):\n",
    "\n",
    "    #ax = plt.subplot(2, n, i + 1 + n)\n",
    "    #plt.imshow(decoded_imgs[i].reshape(52, 52))\n",
    "    #plt.gray()\n",
    "    #ax.get_xaxis().set_visible(False)\n",
    "    #ax.get_yaxis().set_visible(False)\n",
    "#plt.show()\n",
    "\n",
    "loss_history = []\n",
    "out_imgs_t = []"
   ]
  },
  {
   "cell_type": "code",
   "execution_count": 3,
   "metadata": {},
   "outputs": [
    {
     "name": "stdout",
     "output_type": "stream",
     "text": [
      "Epoch 1/1000\n",
      "1000/1000 [==============================] - 24s 22ms/step - loss: 3.0176\n",
      "Reconstructed Images\n"
     ]
    },
    {
     "data": {
      "image/png": "[encoded data removed]",
      "text/plain": [
       "<Figure size 432x288 with 1 Axes>"
      ]
     },
     "metadata": {
      "needs_background": "light"
     },
     "output_type": "display_data"
    },
    {
     "name": "stdout",
     "output_type": "stream",
     "text": [
      "Epoch 2/1000\n",
      "WARNING:tensorflow:Your input ran out of data; interrupting training. Make sure that your dataset or generator can generate at least `steps_per_epoch * epochs` batches (in this case, 1000000 batches). You may need to use the repeat() function when building your dataset.\n",
      "1000/1000 [==============================] - 0s 25us/step - loss: 2.8722\n"
     ]
    },
    {
     "data": {
      "image/png": "[encoded data removed]",
      "text/plain": [
       "<Figure size 72x288 with 1 Axes>"
      ]
     },
     "metadata": {
      "needs_background": "light"
     },
     "output_type": "display_data"
    },
    {
     "data": {
      "image/png": "[encoded data removed]",
      "text/plain": [
       "<Figure size 432x288 with 1 Axes>"
      ]
     },
     "metadata": {
      "needs_background": "light"
     },
     "output_type": "display_data"
    }
   ],
   "source": [
    "def on_epoch_end(epoch, loss):\n",
    "    if epoch % 200 == 0:\n",
    "        loss_float = [v for v in loss.values()]\n",
    "        loss_float = round(float(loss_float[0]), 4)\n",
    "        loss_history.append(loss_float)\n",
    "\n",
    "        decoded_imgs = autoencoder_txt2.predict(x_train)\n",
    "\n",
    "        n = 1\n",
    "        canvas_orig = np.empty((52 * n, 52 * n, 3))\n",
    "        canvas_recon = np.empty((52 * n, 52 * n, 3))\n",
    "        for i in range(n):\n",
    "            #Encode and decode the image\n",
    "            g = decoded_imgs\n",
    "            #Display reconstructed images\n",
    "            for j in range(n):\n",
    "                #Draw the reconstructed image\n",
    "                canvas_recon[i * 52:(i + 1) * 52, j * 52:(j + 1) * 52] = \\\n",
    "                    g[j].reshape([52, 52, 3])\n",
    "\n",
    "            print(\"Reconstructed Images\")\n",
    "        #plt.figure(figsize=(n, n))\n",
    "        plt.imshow(canvas_recon, origin=\"upper\", cmap=\"gray\")\n",
    "        #plt.savefig('across/epoch {} loss {}.png'.format(epoch, loss_float))\n",
    "        plt.show()\n",
    "\n",
    "print_callback = LambdaCallback(on_epoch_end=on_epoch_end)\n",
    "\n",
    "autoencoder_txt.fit(x_train, x_train,\n",
    "                epochs=1000,\n",
    "                batch_size=128,\n",
    "                shuffle=True,\n",
    "                steps_per_epoch=1000,\n",
    "                callbacks=[print_callback])\n",
    "\n",
    "#encoded_imgs = autoencoder1.predict(x_train)\n",
    "\n",
    "#n = 10\n",
    "#plt.figure(figsize=(10, 4))\n",
    "#for i in range(n):\n",
    "    #ax = plt.subplot(1, n, i + 1)\n",
    "    #plt.imshow(encoded_imgs[i].reshape(1, 1 * 128).T)\n",
    "    #plt.gray()\n",
    "    #ax.get_xaxis().set_visible(False)\n",
    "    #ax.get_yaxis().set_visible(False)\n",
    "#plt.show()\n",
    "\n",
    "out_imgs = autoencoder_txt.predict(x_train)\n",
    "#out_imgs_t.append(out_imgs)\n",
    "#out_imgs_f = open('across/out_imgs_t.txt', 'w')\n",
    "#out_imgs_f.write(str(out_imgs_t))\n",
    "#out_imgs_f.close()\n",
    "n = 1\n",
    "plt.figure(figsize=(1, 4))\n",
    "for i in range(n):\n",
    "    ax = plt.subplot(1, n, i + 1)\n",
    "    plt.imshow(out_imgs[i].reshape(1, 1 * 256).T)\n",
    "    plt.gray()\n",
    "    ax.get_xaxis().set_visible(False)\n",
    "    ax.get_yaxis().set_visible(False)\n",
    "plt.show()\n",
    "\n",
    "#input_imgs = autoencoder_txt_input.predict(x_train)\n",
    "\n",
    "#n = 10\n",
    "#plt.figure(figsize=(10, 4))\n",
    "#for i in range(n):\n",
    "    #ax = plt.subplot(1, n, i + 1)\n",
    "    #plt.imshow(input_imgs[i].reshape(1, 1 * 256).T)\n",
    "    #plt.gray()\n",
    "    #ax.get_xaxis().set_visible(False)\n",
    "    #ax.get_yaxis().set_visible(False)\n",
    "#plt.show()\n",
    "\n",
    "plt.plot(loss_history)\n",
    "plt.show()"
   ]
  }
 ],
 "metadata": {
  "kernelspec": {
   "display_name": "Python 3",
   "language": "python",
   "name": "python3"
  },
  "language_info": {
   "codemirror_mode": {
    "name": "ipython",
    "version": 3
   },
   "file_extension": ".py",
   "mimetype": "text/x-python",
   "name": "python",
   "nbconvert_exporter": "python",
   "pygments_lexer": "ipython3",
   "version": "3.7.8"
  }
 },
 "nbformat": 4,
 "nbformat_minor": 4
}
